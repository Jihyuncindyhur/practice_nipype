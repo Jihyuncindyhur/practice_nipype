{
 "cells": [
  {
   "cell_type": "markdown",
   "metadata": {},
   "source": [
    "# Data Input\n",
    "\n",
    "Nipype provides many different modules to grab or select the data:\n",
    "\n",
    "    DataFinder\n",
    "    DataGrabber\n",
    "    FreeSurferSource\n",
    "    JSONFileGrabber\n",
    "    S3DataGrabber\n",
    "    SSHDataGrabber\n",
    "    SelectFiles\n",
    "    XNATSource\n",
    "    \n",
    "Most of them are installed in `interfaces.io`, which probly stands for 'input and output'."
   ]
  },
  {
   "cell_type": "markdown",
   "metadata": {},
   "source": [
    "## **DataGrabber**\n",
    "\n",
    "DataGrabber is an interface for collecting files from hard drive. It is very flexible and supports almost any file organization of your data.\n",
    "\n",
    "You can use it as a trivial use case of getting a fixed file. By default, DataGrabber stores its outputs in a field called outfiles.\n"
   ]
  },
  {
   "cell_type": "code",
   "execution_count": 1,
   "metadata": {},
   "outputs": [
    {
     "data": {
      "text/plain": [
       "\n",
       "outfiles = /data/ds000114/sub-01/ses-test/func/sub-01_ses-test_task-fingerfootlips_bold.nii.gz"
      ]
     },
     "execution_count": 1,
     "metadata": {},
     "output_type": "execute_result"
    }
   ],
   "source": [
    "import nipype.interfaces.io as nio\n",
    "\n",
    "datasource1 = nio.DataGrabber()\n",
    "\n",
    "datasource1.inputs.base_directory = '/data/ds000114'\n",
    "datasource1.inputs.template = 'sub-01/ses-test/func/sub-01_ses-test_task-fingerfootlips_bold.nii.gz'\n",
    "datasource1.inputs.sort_filelist = True\n",
    "\n",
    "results = datasource1.run()\n",
    "\n",
    "results.outputs"
   ]
  },
  {
   "cell_type": "code",
   "execution_count": 2,
   "metadata": {},
   "outputs": [
    {
     "data": {
      "text/plain": [
       "\n",
       "outfiles = ['/data/ds000114/sub-01/ses-test/func/sub-01_ses-test_task-fingerfootlips_bold.nii.gz', '/data/ds000114/sub-02/ses-test/func/sub-02_ses-test_task-fingerfootlips_bold.nii.gz', '/data/ds000114/sub-03/ses-test/func/sub-03_ses-test_task-fingerfootlips_bold.nii.gz', '/data/ds000114/sub-04/ses-test/func/sub-04_ses-test_task-fingerfootlips_bold.nii.gz', '/data/ds000114/sub-05/ses-test/func/sub-05_ses-test_task-fingerfootlips_bold.nii.gz', '/data/ds000114/sub-06/ses-test/func/sub-06_ses-test_task-fingerfootlips_bold.nii.gz', '/data/ds000114/sub-07/ses-test/func/sub-07_ses-test_task-fingerfootlips_bold.nii.gz', '/data/ds000114/sub-08/ses-test/func/sub-08_ses-test_task-fingerfootlips_bold.nii.gz', '/data/ds000114/sub-09/ses-test/func/sub-09_ses-test_task-fingerfootlips_bold.nii.gz', '/data/ds000114/sub-10/ses-test/func/sub-10_ses-test_task-fingerfootlips_bold.nii.gz']"
      ]
     },
     "execution_count": 2,
     "metadata": {},
     "output_type": "execute_result"
    }
   ],
   "source": [
    "# You can get all NIfTI files containing the word 'fingerfootlips' in all directories starting with the letter 's'.\n",
    "\n",
    "import nipype.interfaces.io as nio\n",
    "\n",
    "datasource2 = nio.DataGrabber()\n",
    "    # to create an instance of the nio class\n",
    "\n",
    "datasource2.inputs.base_directory = '/data/ds000114'\n",
    "    # to indicate which directory to search \n",
    "datasource2.inputs.template = 's*/ses-test/func/*fingerfootlips*.nii.gz'\n",
    "    # to indicate the string template to match \n",
    "datasource2.inputs.sort_filelist = True\n",
    "    # to return data in a sorted order\n",
    "\n",
    "results = datasource2.run()\n",
    "\n",
    "results.outputs"
   ]
  },
  {
   "cell_type": "code",
   "execution_count": 10,
   "metadata": {},
   "outputs": [
    {
     "data": {
      "text/plain": [
       "\n",
       "outfiles = ['/data/ds000114/sub-01/ses-test/func/sub-01_ses-test_task-fingerfootlips_bold.nii.gz', '/data/ds000114/sub-07/ses-test/func/sub-07_ses-test_task-fingerfootlips_bold.nii.gz']"
      ]
     },
     "execution_count": 10,
     "metadata": {},
     "output_type": "execute_result"
    }
   ],
   "source": [
    "# To return the functional images from subject 1 and 7 for the task fingerfootlips.\n",
    "\n",
    "datasource3 = nio.DataGrabber(infields = ['subject_id'])\n",
    "datasource3.inputs.base_directory = '/data/ds000114'\n",
    "datasource3.inputs.template = 'sub-%02d/ses-test/func/*fingerfootlips*.nii.gz'\n",
    "    # %02d? 왼쪽부터 0이 두개 (00)\n",
    "datasource3.inputs.sort_filelist = True\n",
    "datasource3.inputs.subject_id = [1, 7]\n",
    "\n",
    "results = datasource3.run()\n",
    "results.outputs"
   ]
  },
  {
   "cell_type": "code",
   "execution_count": 12,
   "metadata": {},
   "outputs": [
    {
     "data": {
      "text/plain": [
       "\n",
       "outfiles = ['/data/ds000114/sub-01/ses-test/func/sub-01_ses-test_task-fingerfootlips_bold.nii.gz', '/data/ds000114/sub-07/ses-test/func/sub-07_ses-test_task-linebisection_bold.nii.gz']"
      ]
     },
     "execution_count": 12,
     "metadata": {},
     "output_type": "execute_result"
    }
   ],
   "source": [
    "# To return the functional image of subject 1, task 'fingerfootlips' and the function image of subject 7 for the 'linebisection' task.\n",
    "\n",
    "datasource4 = nio.DataGrabber(infields=['subject_id', 'run'])\n",
    "    # Specify two infields-subject_id, run\n",
    "\n",
    "datasource4.inputs.base_directory = '/data/ds000114'\n",
    "datasource4.inputs.template = 'sub-%02d/ses-test/func/*%s*.nii.gz'\n",
    "datasource4.inputs.sort_filelist = True\n",
    "\n",
    "datasource4.inputs.run = ['fingerfootlips', 'linebisection']\n",
    "datasource4.inputs.subject_id = [1, 7]\n",
    "\n",
    "results = datasource4.run()\n",
    "results.outputs"
   ]
  },
  {
   "cell_type": "markdown",
   "metadata": {},
   "source": [
    "## **A more realistic use-case**\n",
    "\n",
    "`DataGrabber` is a generic data grabber module that wraps around `glob` to select your neuroimaging data in an intelligent way. As an example, let's assume we want to grab the anatomical and functional images of a certain subject.\n",
    "\n",
    "First, we need to create the DataGrabber node. This node needs to have some input fields for all dynamic parameters (e.g. subject identifier, task identifier), as well as the two desired output fields `anat` and `func`."
   ]
  },
  {
   "cell_type": "code",
   "execution_count": 33,
   "metadata": {},
   "outputs": [],
   "source": [
    "from nipype import DataGrabber, Node\n",
    "\n",
    "dg = Node(DataGrabber(infields = ['subject_id', 'ses_name', 'task_name'],\n",
    "                      outfields = ['anat', 'func']),\n",
    "          name = 'datagrabber')\n",
    "\n",
    "dg.inputs.base_directory = '/data/ds000114'\n",
    "\n",
    "dg.inputs.template = '*'\n",
    "    #*: a placeholder for any possible string combination\n",
    "    \n",
    "dg.inputs.sort_filelist = True\n"
   ]
  },
  {
   "cell_type": "markdown",
   "metadata": {},
   "source": [
    "Second, we know that the two files we desire are the following location:\n",
    "\n",
    "    anat = /data/ds000114/sub-01/ses-test/anat/sub-01_ses-test_T1w.nii.gz\n",
    "    func = /data/ds000114/sub-01/ses-test/func/sub-01_ses-test_task-fingerfootlips_bold.nii.gz\n",
    "\n",
    "We see that the two files only have three dynamic parameters between subjects and task names:\n",
    "\n",
    "    subject_id: in this case 'sub-01'\n",
    "    task_name: in this case fingerfootlips\n",
    "    ses_name: test\n",
    "\n",
    "This means that we can rewrite the paths as follows:\n",
    "\n",
    "    anat = /data/ds102/[subject_id]/ses-[ses_name]/anat/sub-[subject_id]_ses-[ses_name]_T1w.nii.gz\n",
    "    func = /data/ds102/[subject_id]/ses-[ses_name]/func/sub-[subject_id]_ses-[ses_name]_task-[task_name]_bold.nii.gz\n",
    "\n",
    "Therefore, we need the parameters ``subject_id`` and ``ses_name`` for the anatomical image and the parameters ``subject_id``, ``ses_name`` and ``task_name`` for the functional image. In the context of DataGabber, this is specified as follows:"
   ]
  },
  {
   "cell_type": "code",
   "execution_count": 27,
   "metadata": {},
   "outputs": [],
   "source": [
    "dg.inputs.template_args = {'anat': [['subject_id', 'ses_name']],\n",
    "                           'func': [['subject_id', 'ses_name', 'task_name']]}"
   ]
  },
  {
   "cell_type": "code",
   "execution_count": 29,
   "metadata": {},
   "outputs": [],
   "source": [
    "dg.inputs.field_template = {'anat': 'sub-%02d/ses-%s/anat/*_T1w.nii.gz',\n",
    "                            'func': 'sub-%02d/ses-%s/func/*task-%s_bold.nii.gz'}"
   ]
  },
  {
   "cell_type": "code",
   "execution_count": 30,
   "metadata": {},
   "outputs": [],
   "source": [
    "# Using the IdentityInterface\n",
    "from nipype import IdentityInterface\n",
    "infosource = Node(IdentityInterface(fields=['subject_id', 'task_name']),\n",
    "                  name=\"infosource\")\n",
    "infosource.inputs.task_name = \"fingerfootlips\"\n",
    "infosource.inputs.ses_name = \"test\"\n",
    "subject_id_list = [1, 2]\n",
    "infosource.iterables = [('subject_id', subject_id_list)]"
   ]
  },
  {
   "cell_type": "code",
   "execution_count": 31,
   "metadata": {},
   "outputs": [],
   "source": [
    "# Specifying the input fields of DataGrabber directly\n",
    "dg.inputs.subject_id = 1\n",
    "dg.inputs.ses_name = \"test\"\n",
    "dg.inputs.task_name = \"fingerfootlips\""
   ]
  },
  {
   "cell_type": "code",
   "execution_count": 32,
   "metadata": {},
   "outputs": [
    {
     "name": "stdout",
     "output_type": "stream",
     "text": [
      "190128-05:51:58,885 nipype.workflow INFO:\n",
      "\t [Node] Setting-up \"datagrabber\" in \"/tmp/tmppq57kh_7/datagrabber\".\n",
      "190128-05:51:58,895 nipype.workflow INFO:\n",
      "\t [Node] Running \"datagrabber\" (\"nipype.interfaces.io.DataGrabber\")\n",
      "190128-05:51:58,908 nipype.workflow INFO:\n",
      "\t [Node] Finished \"datagrabber\".\n"
     ]
    },
    {
     "data": {
      "text/plain": [
       "\n",
       "anat = /data/ds000114/sub-01/ses-test/anat/sub-01_ses-test_T1w.nii.gz\n",
       "func = /data/ds000114/sub-01/ses-test/func/sub-01_ses-test_task-fingerfootlips_bold.nii.gz"
      ]
     },
     "execution_count": 32,
     "metadata": {},
     "output_type": "execute_result"
    }
   ],
   "source": [
    "dg.run().outputs"
   ]
  },
  {
   "cell_type": "markdown",
   "metadata": {},
   "source": [
    "## **Exercise 1**\n",
    "\n",
    "Grab T1w images from both sessions - ses-test and ses-retest for sub-01."
   ]
  },
  {
   "cell_type": "code",
   "execution_count": 34,
   "metadata": {},
   "outputs": [
    {
     "name": "stdout",
     "output_type": "stream",
     "text": [
      "Generic datagrabber module that wraps around glob in an\n",
      "intelligent way for neuroimaging tasks to grab files\n",
      "\n",
      "\n",
      ".. attention::\n",
      "\n",
      "   Doesn't support directories currently\n",
      "\n",
      "Examples\n",
      "--------\n",
      "\n",
      ">>> from nipype.interfaces.io import DataGrabber\n",
      "\n",
      "Pick all files from current directory\n",
      "\n",
      ">>> dg = DataGrabber()\n",
      ">>> dg.inputs.template = '*'\n",
      "\n",
      "Pick file foo/foo.nii from current directory\n",
      "\n",
      ">>> dg.inputs.template = '%s/%s.dcm'\n",
      ">>> dg.inputs.template_args['outfiles']=[['dicomdir','123456-1-1.dcm']]\n",
      "\n",
      "Same thing but with dynamically created fields\n",
      "\n",
      ">>> dg = DataGrabber(infields=['arg1','arg2'])\n",
      ">>> dg.inputs.template = '%s/%s.nii'\n",
      ">>> dg.inputs.arg1 = 'foo'\n",
      ">>> dg.inputs.arg2 = 'foo'\n",
      "\n",
      "however this latter form can be used with iterables and iterfield in a\n",
      "pipeline.\n",
      "\n",
      "Dynamically created, user-defined input and output fields\n",
      "\n",
      ">>> dg = DataGrabber(infields=['sid'], outfields=['func','struct','ref'])\n",
      ">>> dg.inputs.base_directory = '.'\n",
      ">>> dg.inputs.template = '%s/%s.nii'\n",
      ">>> dg.inputs.template_args['func'] = [['sid',['f3','f5']]]\n",
      ">>> dg.inputs.template_args['struct'] = [['sid',['struct']]]\n",
      ">>> dg.inputs.template_args['ref'] = [['sid','ref']]\n",
      ">>> dg.inputs.sid = 's1'\n",
      "\n",
      "Change the template only for output field struct. The rest use the\n",
      "general template\n",
      "\n",
      ">>> dg.inputs.field_template = dict(struct='%s/struct.nii')\n",
      ">>> dg.inputs.template_args['struct'] = [['sid']]\n",
      "\n",
      "Inputs::\n",
      "\n",
      "\t[Mandatory]\n",
      "\tsort_filelist: (a boolean)\n",
      "\t\tSort the filelist that matches the template\n",
      "\ttemplate: (a unicode string)\n",
      "\t\tLayout used to get files. relative to base directory if defined\n",
      "\n",
      "\t[Optional]\n",
      "\tbase_directory: (an existing directory name)\n",
      "\t\tPath to the base directory consisting of subject data.\n",
      "\tdrop_blank_outputs: (a boolean, nipype default value: False)\n",
      "\t\tRemove ``None`` entries from output lists\n",
      "\traise_on_empty: (a boolean, nipype default value: True)\n",
      "\t\tGenerate exception if list is empty for a given field\n",
      "\ttemplate_args: (a dictionary with keys which are a unicode string and\n",
      "\t\t with values which are a list of items which are a list of items\n",
      "\t\t which are any value)\n",
      "\t\tInformation to plug into template\n",
      "\n",
      "Outputs::\n",
      "\n",
      "\tNone\n",
      "\n",
      "\n"
     ]
    }
   ],
   "source": [
    "DataGrabber.help()"
   ]
  },
  {
   "cell_type": "code",
   "execution_count": 35,
   "metadata": {},
   "outputs": [
    {
     "name": "stdout",
     "output_type": "stream",
     "text": [
      "190128-05:59:14,410 nipype.workflow INFO:\n",
      "\t [Node] Setting-up \"datagrabber\" in \"/tmp/tmpytg778dr/datagrabber\".\n",
      "190128-05:59:14,421 nipype.workflow INFO:\n",
      "\t [Node] Running \"datagrabber\" (\"nipype.interfaces.io.DataGrabber\")\n",
      "190128-05:59:14,436 nipype.workflow INFO:\n",
      "\t [Node] Finished \"datagrabber\".\n"
     ]
    }
   ],
   "source": [
    "from nipype import DataGrabber, Node\n",
    "\n",
    "# Create DataGrabber Node\n",
    "ex1_dg = Node(DataGrabber(infields = ['subject_id', 'ses_name'],\n",
    "                          outfields = ['anat']), #outfields? It sets an output variable name.\n",
    "              name = 'datagrabber')\n",
    "\n",
    "# Location of the dataset folder\n",
    "ex1_dg.inputs.base_directory = '/data/ds000114'\n",
    "\n",
    "# Necessary default parameters\n",
    "ex1_dg.inputs.template = '*'\n",
    "ex1_dg.inputs.sort_filelist = True\n",
    "\n",
    "# Specify the template\n",
    "ex1_dg.inputs.template_args = {'anat': [['subject_id', 'ses_name']]}\n",
    "ex1_dg.inputs.field_template = {'anat': 'sub-%02d/ses-%s/anat/*_T1w.nii.gz'}\n",
    "\n",
    "# specify subject_id and ses_name you're interested in\n",
    "ex1_dg.inputs.subject_id = 1\n",
    "ex1_dg.inputs.ses_name = [\"test\", \"retest\"]\n",
    "\n",
    "# and run the node\n",
    "ex1_res = ex1_dg.run()"
   ]
  },
  {
   "cell_type": "code",
   "execution_count": 36,
   "metadata": {},
   "outputs": [
    {
     "data": {
      "text/plain": [
       "\n",
       "anat = ['/data/ds000114/sub-01/ses-test/anat/sub-01_ses-test_T1w.nii.gz', '/data/ds000114/sub-01/ses-retest/anat/sub-01_ses-retest_T1w.nii.gz']"
      ]
     },
     "execution_count": 36,
     "metadata": {},
     "output_type": "execute_result"
    }
   ],
   "source": [
    "ex1_res.outputs"
   ]
  },
  {
   "cell_type": "markdown",
   "metadata": {},
   "source": [
    "## **SelectFiles**\n",
    "\n",
    "SelectFiles is a more flexible alternative to DataGrabber. It is built on Python 'format strings'. Format strings allow you to replace named sections of template strings set off by curly braces ({}), possibly filtered thru a set of functions that control how the values are rendered into the string. As a very basic example, we could write..."
   ]
  },
  {
   "cell_type": "code",
   "execution_count": 37,
   "metadata": {},
   "outputs": [
    {
     "name": "stdout",
     "output_type": "stream",
     "text": [
      "This workflow uses FSL.\n"
     ]
    }
   ],
   "source": [
    "msg = \"This workflow uses {package}.\"\n",
    "\n",
    "print(msg.format(package = \"FSL\"))"
   ]
  },
  {
   "cell_type": "code",
   "execution_count": 38,
   "metadata": {},
   "outputs": [],
   "source": [
    "from nipype import SelectFiles, Node\n",
    "\n",
    "templates = {'anat': 'sub-{subject_id}/ses-{ses_name}/anat/sub-{subject_id}_ses-{ses_name}_T1w.nii.gz',\n",
    "             'func': 'sub-{subject_id}/ses-{ses_name}/func/sub-{subject_id}_ses-{ses_name}_task-{task_name}_bold.nii.gz'}\n",
    "\n",
    "sf = Node(SelectFiles(templates),\n",
    "          name = 'selectfiles')\n",
    "\n",
    "sf.inputs.base_directory = '/data/ds000114'\n",
    "\n",
    "sf.inputs.subject_id = '01'\n",
    "sf.inputs.ses_name = \"test\"\n",
    "sf.inputs.task_name = 'fingerfootlips'"
   ]
  },
  {
   "cell_type": "code",
   "execution_count": 39,
   "metadata": {},
   "outputs": [
    {
     "name": "stdout",
     "output_type": "stream",
     "text": [
      "190128-06:25:32,670 nipype.workflow INFO:\n",
      "\t [Node] Setting-up \"selectfiles\" in \"/tmp/tmp8a791_5b/selectfiles\".\n",
      "190128-06:25:32,676 nipype.workflow INFO:\n",
      "\t [Node] Running \"selectfiles\" (\"nipype.interfaces.io.SelectFiles\")\n",
      "190128-06:25:32,689 nipype.workflow INFO:\n",
      "\t [Node] Finished \"selectfiles\".\n"
     ]
    },
    {
     "data": {
      "text/plain": [
       "\n",
       "anat = /data/ds000114/sub-01/ses-test/anat/sub-01_ses-test_T1w.nii.gz\n",
       "func = /data/ds000114/sub-01/ses-test/func/sub-01_ses-test_task-fingerfootlips_bold.nii.gz"
      ]
     },
     "execution_count": 39,
     "metadata": {},
     "output_type": "execute_result"
    }
   ],
   "source": [
    "sf.run().outputs"
   ]
  },
  {
   "cell_type": "markdown",
   "metadata": {},
   "source": [
    "`SelectFiles` is more flexible than `DataGrabber` because you can use the {}-based string. With the {}-based string, we can reuse the same input (e.g. subject_id) multiple times in the same string, without feeding it multiple times into the template. \n",
    "\n",
    "Also, you can select multiple files without the need of an iterable node:\n",
    "\n",
    "    'sub-*/anat/sub-*_T1w.nii.gz'\n",
    "\n",
    "Let's see how this works:"
   ]
  },
  {
   "cell_type": "code",
   "execution_count": 2,
   "metadata": {},
   "outputs": [
    {
     "name": "stdout",
     "output_type": "stream",
     "text": [
      "190129-01:39:14,804 nipype.workflow INFO:\n",
      "\t [Node] Setting-up \"selectfiles\" in \"/tmp/tmpjnd6qk45/selectfiles\".\n",
      "190129-01:39:14,812 nipype.workflow INFO:\n",
      "\t [Node] Running \"selectfiles\" (\"nipype.interfaces.io.SelectFiles\")\n",
      "190129-01:39:14,903 nipype.workflow INFO:\n",
      "\t [Node] Finished \"selectfiles\".\n"
     ]
    },
    {
     "data": {
      "text/plain": [
       "\n",
       "anat = ['/data/ds000114/sub-01/ses-test/anat/sub-01_ses-test_T1w.nii.gz', '/data/ds000114/sub-02/ses-test/anat/sub-02_ses-test_T1w.nii.gz', '/data/ds000114/sub-03/ses-test/anat/sub-03_ses-test_T1w.nii.gz', '/data/ds000114/sub-04/ses-test/anat/sub-04_ses-test_T1w.nii.gz', '/data/ds000114/sub-05/ses-test/anat/sub-05_ses-test_T1w.nii.gz', '/data/ds000114/sub-06/ses-test/anat/sub-06_ses-test_T1w.nii.gz', '/data/ds000114/sub-07/ses-test/anat/sub-07_ses-test_T1w.nii.gz', '/data/ds000114/sub-08/ses-test/anat/sub-08_ses-test_T1w.nii.gz', '/data/ds000114/sub-09/ses-test/anat/sub-09_ses-test_T1w.nii.gz', '/data/ds000114/sub-10/ses-test/anat/sub-10_ses-test_T1w.nii.gz']"
      ]
     },
     "execution_count": 2,
     "metadata": {},
     "output_type": "execute_result"
    }
   ],
   "source": [
    "from nipype import SelectFiles, Node\n",
    "\n",
    "# String template with {}-based strings\n",
    "\n",
    "templates = {'anat': 'sub-*/ses-{ses_name}/anat/sub-*_ses-{ses_name}_T1w.nii.gz'}\n",
    "\n",
    "# Create SelectFiles Node\n",
    "sf = Node(SelectFiles(templates),\n",
    "          name = \"selectfiles\")\n",
    "\n",
    "sf.inputs.base_directory = '/data/ds000114'\n",
    "\n",
    "sf.inputs.ses_name = 'test'\n",
    "\n",
    "sf.run().outputs"
   ]
  },
  {
   "cell_type": "markdown",
   "metadata": {},
   "source": [
    "As you can see, now `anat` contains ten file paths, T1w images for all ten subjects.\n",
    "\n",
    "As a side note, you could also use [] string formatting for some simple case:\n",
    "\n",
    "    'sub-0[1, 2]/ses-test/anat/sub-0[1, 2]_ses-test_T1w.nii.gz'"
   ]
  },
  {
   "cell_type": "markdown",
   "metadata": {},
   "source": [
    "### **force_lists pararmeter**\n",
    "\n",
    "This is to control the default dehavior that when a template matches multiple files they are returned as a list, while a single file is returned as a string. There may be situations where you want to force the outputs to always be returned as a list (for example, you are writing a workflow that expects to operate on several runs of data, but some of your subjects only have a single run). In this case, `force_lists` can be used to tune the outputs of the interface. You can either use a boolean value (which will be appled to every output the interface has), or you can provide a list of the output files that should be coerced to a list.\n",
    "\n",
    "Returning to our previous example, you may want to ensure that the anat files are returned as a list, but you only ever will have a single T1 file. In this case, you would do\n"
   ]
  },
  {
   "cell_type": "code",
   "execution_count": 7,
   "metadata": {},
   "outputs": [
    {
     "data": {
      "text/plain": [
       "\n",
       "anat = ['/data/ds000114/sub-01/ses-test/anat/sub-01_ses-test_T1w.nii.gz', '/data/ds000114/sub-02/ses-test/anat/sub-02_ses-test_T1w.nii.gz', '/data/ds000114/sub-03/ses-test/anat/sub-03_ses-test_T1w.nii.gz', '/data/ds000114/sub-04/ses-test/anat/sub-04_ses-test_T1w.nii.gz', '/data/ds000114/sub-05/ses-test/anat/sub-05_ses-test_T1w.nii.gz', '/data/ds000114/sub-06/ses-test/anat/sub-06_ses-test_T1w.nii.gz', '/data/ds000114/sub-07/ses-test/anat/sub-07_ses-test_T1w.nii.gz', '/data/ds000114/sub-08/ses-test/anat/sub-08_ses-test_T1w.nii.gz', '/data/ds000114/sub-09/ses-test/anat/sub-09_ses-test_T1w.nii.gz', '/data/ds000114/sub-10/ses-test/anat/sub-10_ses-test_T1w.nii.gz']"
      ]
     },
     "execution_count": 7,
     "metadata": {},
     "output_type": "execute_result"
    }
   ],
   "source": [
    "sf2 = SelectFiles(templates, force_lists = [\"anat\"])\n",
    "\n",
    "sf2.inputs.base_directory = '/data/ds000114'\n",
    "sf2.inputs.ses_name = 'test'\n",
    "sf2.run().outputs\n",
    "\n",
    "# We can still get a list of pathnames without the force_lists parameter tho... \n",
    "# When would it be needed??"
   ]
  },
  {
   "cell_type": "code",
   "execution_count": 11,
   "metadata": {},
   "outputs": [
    {
     "name": "stdout",
     "output_type": "stream",
     "text": [
      "190129-01:54:47,606 nipype.workflow INFO:\n",
      "\t [Node] Setting-up \"selectfiles3\" in \"/tmp/tmphfaz2rpn/selectfiles3\".\n",
      "190129-01:54:47,616 nipype.workflow INFO:\n",
      "\t [Node] Running \"selectfiles3\" (\"nipype.interfaces.io.SelectFiles\")\n",
      "190129-01:54:47,643 nipype.workflow INFO:\n",
      "\t [Node] Finished \"selectfiles3\".\n"
     ]
    },
    {
     "data": {
      "text/plain": [
       "\n",
       "anat = ['/data/ds000114/sub-01/ses-retest/anat/sub-01_ses-retest_T1w.nii.gz', '/data/ds000114/sub-01/ses-test/anat/sub-01_ses-test_T1w.nii.gz']"
      ]
     },
     "execution_count": 11,
     "metadata": {},
     "output_type": "execute_result"
    }
   ],
   "source": [
    "from nipype import SelectFiles, Node\n",
    "\n",
    "# Error: templates = {'anat': 'sub-01/ses-{test}/anat/sub-01_ses-{test}_T1w.nii.gz'}\n",
    "templates = {'anat': 'sub-01/ses-*/anat/sub-01_ses-*_T1w.nii.gz'}\n",
    "\n",
    "sf3 = Node(SelectFiles(templates), name = \"selectfiles3\")\n",
    "\n",
    "sf3.inputs.base_directory = '/data/ds000114'\n",
    "\n",
    "# Error: sf3.inputs.test = 'test', 'retest'\n",
    "\n",
    "sf3.run().outputs"
   ]
  },
  {
   "cell_type": "markdown",
   "metadata": {},
   "source": [
    "## **FreeSurferSource**\n",
    "\n",
    "`FreeSurferSource` is a specific case of a file grabber that facilitates the data import of outputs from the FreeSurfer 'recon-all' algorithm. This, of course, requires that you've already run 'recon-all' on your subject.\n",
    "\n",
    "For the tutorial dataset, recon-all was already run."
   ]
  },
  {
   "cell_type": "code",
   "execution_count": 12,
   "metadata": {},
   "outputs": [
    {
     "name": "stdout",
     "output_type": "stream",
     "text": [
      "[\u001b[1;33mWARNING\u001b[0m] path not associated with any dataset [get(/data/ds000114/derivatives/freesurfer/sub-01)] \n",
      "\u001b[1;1mget\u001b[0m(\u001b[1;33mimpossible\u001b[0m): /data/ds000114/derivatives/freesurfer/sub-01 [path not associated with any dataset]\n"
     ]
    }
   ],
   "source": [
    "!datalad get -r -J 4 /data/ds000114/derivatives/freesurfer/sub-01"
   ]
  },
  {
   "cell_type": "markdown",
   "metadata": {},
   "source": [
    "To specify the FreeSurfer output folder:\n",
    "\n",
    "    from nipype.interfaces.freesurfer import FSCommand\n",
    "    from os.path import abspath as opap\n",
    "\n",
    "    fs_dir = opap('/data/ds000114/derivatives/freesurfer/') #output absolute path\n",
    "\n",
    "    FSCommand.set_default_subejcts_dir(fs_dir)"
   ]
  },
  {
   "cell_type": "markdown",
   "metadata": {},
   "source": [
    "To create the FreeSurferSource node:\n",
    "\n",
    "    from nipype import Node\n",
    "    from nipype.interfaces.io import FreeSurferSource\n",
    "    \n",
    "    fssource = Node(FreeSurferSource(subjects_dir = fs_dir),\n",
    "                    name = 'fssource')\n",
    "                    "
   ]
  },
  {
   "cell_type": "markdown",
   "metadata": {},
   "source": [
    "To access multiple FreeSurfer outputs:\n",
    "\n",
    "    print('aparc_aseg: %s\\n' % result.outputs.aparc_aseg)\n",
    "    print('inflated: %s\\n' % result.outputs.inflated)\n",
    "\n",
    "But as you can see, the inflated output actually contains the file location for both hemispheres. With FreeSurferSource we can also restrict the file selection to a single hemisphere. To do this, we use the hemi input filed:\n",
    "\n",
    "    fssource.inputs.hemi = 'lh'\n",
    "    result = fssource.run()\n",
    "    \n",
    "    result.outputs.inflated"
   ]
  },
  {
   "cell_type": "code",
   "execution_count": null,
   "metadata": {},
   "outputs": [],
   "source": []
  }
 ],
 "metadata": {
  "kernelspec": {
   "display_name": "Python 3",
   "language": "python",
   "name": "python3"
  },
  "language_info": {
   "codemirror_mode": {
    "name": "ipython",
    "version": 3
   },
   "file_extension": ".py",
   "mimetype": "text/x-python",
   "name": "python",
   "nbconvert_exporter": "python",
   "pygments_lexer": "ipython3",
   "version": "3.7.1"
  }
 },
 "nbformat": 4,
 "nbformat_minor": 2
}
