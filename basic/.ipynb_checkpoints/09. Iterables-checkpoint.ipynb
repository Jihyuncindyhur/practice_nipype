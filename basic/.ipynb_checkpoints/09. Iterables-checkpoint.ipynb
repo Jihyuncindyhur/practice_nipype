{
 "cells": [
  {
   "cell_type": "code",
   "execution_count": 1,
   "metadata": {},
   "outputs": [],
   "source": [
    "from nipype import Node, Workflow\n",
    "from nipype.interfaces.fsl import BET, IsotropicSmooth\n",
    "\n",
    "# Initiate a skull stripping Node with BET\n",
    "skullstrip = Node(BET(mask=True,\n",
    "                      in_file='/data/ds001534/sub-01/anat/sub-01_T1w.nii.gz'),\n",
    "                  name=\"skullstrip\")"
   ]
  },
  {
   "cell_type": "code",
   "execution_count": 2,
   "metadata": {},
   "outputs": [],
   "source": [
    "isosmooth = Node(IsotropicSmooth(), name='iso_smooth')\n"
   ]
  },
  {
   "cell_type": "code",
   "execution_count": 3,
   "metadata": {},
   "outputs": [],
   "source": [
    "isosmooth.iterables = (\"fwhm\", [4, 8, 16])"
   ]
  },
  {
   "cell_type": "code",
   "execution_count": 4,
   "metadata": {},
   "outputs": [
    {
     "name": "stdout",
     "output_type": "stream",
     "text": [
      "190207-00:38:07,416 nipype.workflow INFO:\n",
      "\t Workflow smoothflow settings: ['check', 'execution', 'logging', 'monitoring']\n",
      "190207-00:38:07,443 nipype.workflow INFO:\n",
      "\t Running in parallel.\n",
      "190207-00:38:07,452 nipype.workflow INFO:\n",
      "\t [MultiProc] Running 0 tasks, and 1 jobs ready. Free memory (GB): 5.24/5.24, Free processors: 3/3.\n",
      "190207-00:38:07,537 nipype.workflow INFO:\n",
      "\t [Node] Setting-up \"smoothflow.skullstrip\" in \"/output/smoothflow/skullstrip\".\n",
      "190207-00:38:07,573 nipype.workflow INFO:\n",
      "\t [Node] Running \"skullstrip\" (\"nipype.interfaces.fsl.preprocess.BET\"), a CommandLine Interface with command:\n",
      "bet /data/ds001534/sub-01/anat/sub-01_T1w.nii.gz /output/smoothflow/skullstrip/sub-01_T1w_brain.nii.gz -m\n",
      "190207-00:38:09,452 nipype.workflow INFO:\n",
      "\t [MultiProc] Running 1 tasks, and 0 jobs ready. Free memory (GB): 5.04/5.24, Free processors: 2/3.\n",
      "                     Currently running:\n",
      "                       * smoothflow.skullstrip\n",
      "190207-00:38:12,442 nipype.workflow INFO:\n",
      "\t [Node] Finished \"smoothflow.skullstrip\".\n",
      "190207-00:38:13,455 nipype.workflow INFO:\n",
      "\t [Job 0] Completed (smoothflow.skullstrip).\n",
      "190207-00:38:13,459 nipype.workflow INFO:\n",
      "\t [MultiProc] Running 0 tasks, and 3 jobs ready. Free memory (GB): 5.24/5.24, Free processors: 3/3.\n",
      "190207-00:38:13,503 nipype.workflow INFO:\n",
      "\t [Node] Setting-up \"smoothflow.iso_smooth\" in \"/output/smoothflow/_fwhm_16/iso_smooth\".\n",
      "190207-00:38:13,522 nipype.workflow INFO:\n",
      "\t [Node] Setting-up \"smoothflow.iso_smooth\" in \"/output/smoothflow/_fwhm_8/iso_smooth\".\n",
      "190207-00:38:13,540 nipype.workflow INFO:\n",
      "\t [Node] Setting-up \"smoothflow.iso_smooth\" in \"/output/smoothflow/_fwhm_4/iso_smooth\".\n",
      "190207-00:38:13,544 nipype.workflow INFO:\n",
      "\t [Node] Running \"iso_smooth\" (\"nipype.interfaces.fsl.maths.IsotropicSmooth\"), a CommandLine Interface with command:\n",
      "fslmaths /output/smoothflow/skullstrip/sub-01_T1w_brain.nii.gz -s 6.79457 /output/smoothflow/_fwhm_16/iso_smooth/sub-01_T1w_brain_smooth.nii.gz\n",
      "190207-00:38:13,571 nipype.workflow INFO:\n",
      "\t [Node] Running \"iso_smooth\" (\"nipype.interfaces.fsl.maths.IsotropicSmooth\"), a CommandLine Interface with command:\n",
      "fslmaths /output/smoothflow/skullstrip/sub-01_T1w_brain.nii.gz -s 3.39729 /output/smoothflow/_fwhm_8/iso_smooth/sub-01_T1w_brain_smooth.nii.gz\n",
      "190207-00:38:13,595 nipype.workflow INFO:\n",
      "\t [Node] Running \"iso_smooth\" (\"nipype.interfaces.fsl.maths.IsotropicSmooth\"), a CommandLine Interface with command:\n",
      "fslmaths /output/smoothflow/skullstrip/sub-01_T1w_brain.nii.gz -s 1.69864 /output/smoothflow/_fwhm_4/iso_smooth/sub-01_T1w_brain_smooth.nii.gz\n",
      "190207-00:38:15,438 nipype.workflow INFO:\n",
      "\t [MultiProc] Running 3 tasks, and 0 jobs ready. Free memory (GB): 4.64/5.24, Free processors: 0/3.\n",
      "                     Currently running:\n",
      "                       * smoothflow.iso_smooth\n",
      "                       * smoothflow.iso_smooth\n",
      "                       * smoothflow.iso_smooth\n",
      "190207-00:38:23,699 nipype.workflow INFO:\n",
      "\t [Node] Finished \"smoothflow.iso_smooth\".\n",
      "190207-00:38:25,448 nipype.workflow INFO:\n",
      "\t [Job 3] Completed (smoothflow.iso_smooth).\n",
      "190207-00:38:25,452 nipype.workflow INFO:\n",
      "\t [MultiProc] Running 2 tasks, and 0 jobs ready. Free memory (GB): 4.84/5.24, Free processors: 1/3.\n",
      "                     Currently running:\n",
      "                       * smoothflow.iso_smooth\n",
      "                       * smoothflow.iso_smooth\n",
      "190207-00:38:29,136 nipype.workflow INFO:\n",
      "\t [Node] Finished \"smoothflow.iso_smooth\".\n",
      "190207-00:38:29,452 nipype.workflow INFO:\n",
      "\t [Job 2] Completed (smoothflow.iso_smooth).\n",
      "190207-00:38:29,454 nipype.workflow INFO:\n",
      "\t [MultiProc] Running 1 tasks, and 0 jobs ready. Free memory (GB): 5.04/5.24, Free processors: 2/3.\n",
      "                     Currently running:\n",
      "                       * smoothflow.iso_smooth\n",
      "190207-00:38:37,781 nipype.workflow INFO:\n",
      "\t [Node] Finished \"smoothflow.iso_smooth\".\n",
      "190207-00:38:39,467 nipype.workflow INFO:\n",
      "\t [Job 1] Completed (smoothflow.iso_smooth).\n",
      "190207-00:38:39,469 nipype.workflow INFO:\n",
      "\t [MultiProc] Running 0 tasks, and 0 jobs ready. Free memory (GB): 5.24/5.24, Free processors: 3/3.\n"
     ]
    },
    {
     "data": {
      "text/plain": [
       "<networkx.classes.digraph.DiGraph at 0x7f59d1d57a58>"
      ]
     },
     "execution_count": 4,
     "metadata": {},
     "output_type": "execute_result"
    }
   ],
   "source": [
    "# Create the workflow\n",
    "wf = Workflow(name=\"smoothflow\")\n",
    "wf.base_dir = \"/output\"\n",
    "wf.connect(skullstrip, 'out_file', isosmooth, 'in_file')\n",
    "\n",
    "# Run it in parallel (one core for each smoothing kernel)\n",
    "wf.run('MultiProc', plugin_args={'n_procs': 3})"
   ]
  },
  {
   "cell_type": "code",
   "execution_count": 5,
   "metadata": {},
   "outputs": [
    {
     "name": "stdout",
     "output_type": "stream",
     "text": [
      "190207-00:38:41,759 nipype.workflow INFO:\n",
      "\t Generated workflow graph: /output/smoothflow/graph.png (graph2use=exec, simple_form=True).\n"
     ]
    },
    {
     "data": {
      "image/png": "[encoded data removed]",
      "text/plain": [
       "<IPython.core.display.Image object>"
      ]
     },
     "execution_count": 5,
     "metadata": {},
     "output_type": "execute_result"
    }
   ],
   "source": [
    "from IPython.display import Image\n",
    "wf.write_graph(graph2use='exec', format='png', simple_form=True)\n",
    "Image(filename='/output/smoothflow/graph_detailed.png')"
   ]
  },
  {
   "cell_type": "code",
   "execution_count": 6,
   "metadata": {},
   "outputs": [
    {
     "name": "stdout",
     "output_type": "stream",
     "text": [
      "/output/smoothflow\n",
      "├── _fwhm_16\n",
      "│   └── iso_smooth\n",
      "│       ├── _report\n",
      "│       └── sub-01_T1w_brain_smooth.nii.gz\n",
      "├── _fwhm_4\n",
      "│   └── iso_smooth\n",
      "│       ├── _report\n",
      "│       └── sub-01_T1w_brain_smooth.nii.gz\n",
      "├── _fwhm_8\n",
      "│   └── iso_smooth\n",
      "│       ├── _report\n",
      "│       └── sub-01_T1w_brain_smooth.nii.gz\n",
      "├── graph_detailed.png\n",
      "├── graph.png\n",
      "└── skullstrip\n",
      "    ├── _report\n",
      "    └── sub-01_T1w_brain.nii.gz\n",
      "\n",
      "11 directories, 6 files\n"
     ]
    }
   ],
   "source": [
    "!tree /output/smoothflow -I '*txt|*pklz|report*|*.json|*js|*.dot|*.html'"
   ]
  },
  {
   "cell_type": "code",
   "execution_count": 7,
   "metadata": {},
   "outputs": [],
   "source": [
    "from nilearn import plotting\n",
    "%matplotlib inline"
   ]
  },
  {
   "cell_type": "code",
   "execution_count": 8,
   "metadata": {},
   "outputs": [
    {
     "data": {
      "image/png": "[encoded data removed]",
      "text/plain": [
       "<Figure size 633.6x165.6 with 5 Axes>"
      ]
     },
     "metadata": {},
     "output_type": "display_data"
    }
   ],
   "source": [
    "plotting.plot_anat(\n",
    "    '/data/ds001534/sub-01/anat/sub-01_T1w.nii.gz', title='original',\n",
    "    display_mode='z', dim=-1, cut_coords=(-50, -35, -20, -5), annotate=False);"
   ]
  },
  {
   "cell_type": "code",
   "execution_count": 9,
   "metadata": {},
   "outputs": [
    {
     "data": {
      "image/png": "[encoded data removed]",
      "text/plain": [
       "<Figure size 633.6x165.6 with 5 Axes>"
      ]
     },
     "metadata": {},
     "output_type": "display_data"
    }
   ],
   "source": [
    "plotting.plot_anat(\n",
    "    '/output/smoothflow/skullstrip/sub-01_T1w_brain.nii.gz', title='skullstripped',\n",
    "    display_mode='z', dim=-1, cut_coords=(-50, -35, -20, -5), annotate=False);"
   ]
  },
  {
   "cell_type": "code",
   "execution_count": 10,
   "metadata": {},
   "outputs": [
    {
     "data": {
      "image/png": "[encoded data removed]",
      "text/plain": [
       "<Figure size 633.6x165.6 with 5 Axes>"
      ]
     },
     "metadata": {},
     "output_type": "display_data"
    }
   ],
   "source": [
    "plotting.plot_anat(\n",
    "    '/output/smoothflow/_fwhm_4/iso_smooth/sub-01_T1w_brain_smooth.nii.gz', title='FWHM=4',\n",
    "    display_mode='z', dim=-0.5, cut_coords=(-50, -35, -20, -5), annotate=False);"
   ]
  },
  {
   "cell_type": "markdown",
   "metadata": {},
   "source": [
    "(IdentityInterfaces skipped)\n",
    "\n",
    "## **Exercise 1**\n",
    "\n",
    "Create a workflow to calculate various powers of 2 using two nodes, one for IdentityInterface with iterables, and one for Function interface to calculate the power of 2."
   ]
  },
  {
   "cell_type": "code",
   "execution_count": 20,
   "metadata": {},
   "outputs": [
    {
     "name": "stdout",
     "output_type": "stream",
     "text": [
      "190207-00:58:04,509 nipype.workflow INFO:\n",
      "\t Workflow exercise1 settings: ['check', 'execution', 'logging', 'monitoring']\n",
      "190207-00:58:04,541 nipype.workflow INFO:\n",
      "\t Running serially.\n",
      "190207-00:58:04,543 nipype.workflow INFO:\n",
      "\t [Node] Setting-up \"exercise1.power\" in \"/tmp/tmpm6k8ok2a/exercise1/_number_7/power\".\n",
      "190207-00:58:04,546 nipype.workflow INFO:\n",
      "\t [Node] Running \"power\" (\"nipype.interfaces.utility.wrappers.Function\")\n",
      "190207-00:58:04,552 nipype.workflow INFO:\n",
      "\t [Node] Finished \"exercise1.power\".\n",
      "190207-00:58:04,554 nipype.workflow INFO:\n",
      "\t [Node] Setting-up \"exercise1.power\" in \"/tmp/tmp4xl19qg6/exercise1/_number_6/power\".\n",
      "190207-00:58:04,557 nipype.workflow INFO:\n",
      "\t [Node] Running \"power\" (\"nipype.interfaces.utility.wrappers.Function\")\n",
      "190207-00:58:04,563 nipype.workflow INFO:\n",
      "\t [Node] Finished \"exercise1.power\".\n",
      "190207-00:58:04,564 nipype.workflow INFO:\n",
      "\t [Node] Setting-up \"exercise1.power\" in \"/tmp/tmp5cast7aa/exercise1/_number_5/power\".\n",
      "190207-00:58:04,568 nipype.workflow INFO:\n",
      "\t [Node] Running \"power\" (\"nipype.interfaces.utility.wrappers.Function\")\n",
      "190207-00:58:04,574 nipype.workflow INFO:\n",
      "\t [Node] Finished \"exercise1.power\".\n",
      "190207-00:58:04,576 nipype.workflow INFO:\n",
      "\t [Node] Setting-up \"exercise1.power\" in \"/tmp/tmp_s83k1rj/exercise1/_number_4/power\".\n",
      "190207-00:58:04,580 nipype.workflow INFO:\n",
      "\t [Node] Running \"power\" (\"nipype.interfaces.utility.wrappers.Function\")\n",
      "190207-00:58:04,585 nipype.workflow INFO:\n",
      "\t [Node] Finished \"exercise1.power\".\n",
      "190207-00:58:04,587 nipype.workflow INFO:\n",
      "\t [Node] Setting-up \"exercise1.power\" in \"/tmp/tmpoixfhlu0/exercise1/_number_3/power\".\n",
      "190207-00:58:04,591 nipype.workflow INFO:\n",
      "\t [Node] Running \"power\" (\"nipype.interfaces.utility.wrappers.Function\")\n",
      "190207-00:58:04,596 nipype.workflow INFO:\n",
      "\t [Node] Finished \"exercise1.power\".\n",
      "190207-00:58:04,598 nipype.workflow INFO:\n",
      "\t [Node] Setting-up \"exercise1.power\" in \"/tmp/tmpu79nlx8j/exercise1/_number_2/power\".\n",
      "190207-00:58:04,601 nipype.workflow INFO:\n",
      "\t [Node] Running \"power\" (\"nipype.interfaces.utility.wrappers.Function\")\n",
      "190207-00:58:04,606 nipype.workflow INFO:\n",
      "\t [Node] Finished \"exercise1.power\".\n",
      "190207-00:58:04,607 nipype.workflow INFO:\n",
      "\t [Node] Setting-up \"exercise1.power\" in \"/tmp/tmpuhxt_sko/exercise1/_number_1/power\".\n",
      "190207-00:58:04,610 nipype.workflow INFO:\n",
      "\t [Node] Running \"power\" (\"nipype.interfaces.utility.wrappers.Function\")\n",
      "190207-00:58:04,615 nipype.workflow INFO:\n",
      "\t [Node] Finished \"exercise1.power\".\n",
      "190207-00:58:04,616 nipype.workflow INFO:\n",
      "\t [Node] Setting-up \"exercise1.power\" in \"/tmp/tmp5ze9k4fa/exercise1/_number_0/power\".\n",
      "190207-00:58:04,619 nipype.workflow INFO:\n",
      "\t [Node] Running \"power\" (\"nipype.interfaces.utility.wrappers.Function\")\n",
      "190207-00:58:04,624 nipype.workflow INFO:\n",
      "\t [Node] Finished \"exercise1.power\".\n"
     ]
    },
    {
     "data": {
      "text/plain": [
       "\n",
       "pow = 16"
      ]
     },
     "execution_count": 20,
     "metadata": {},
     "output_type": "execute_result"
    }
   ],
   "source": [
    "from nipype import Function, Node, Workflow\n",
    "from nipype.interfaces.utility import IdentityInterface\n",
    "\n",
    "iden = Node(IdentityInterface(fields=['number']), name=\"identity\") #fields가 뭘까 도대체\n",
    "iden.iterables = [(\"number\", range(8))]\n",
    "\n",
    "def power_of_two(n): #2의 n 제곱\n",
    "    return 2**n\n",
    "\n",
    "power = Node(Function(input_names=[\"n\"],\n",
    "                      output_names=[\"pow\"],\n",
    "                      function=power_of_two),\n",
    "             name='power')\n",
    " \n",
    "wf_ex1 = Workflow(name=\"exercise1\")\n",
    "wf_ex1.connect(iden, \"number\", power, \"n\")\n",
    "res_ex1 = wf_ex1.run()\n",
    "\n",
    "list(res_ex1.nodes())[4].result.outputs #??? \n",
    "\n",
    "#for i in range(8):\n",
    "#    print(list(res_ex1.nodes())[i].result.outputs)"
   ]
  },
  {
   "cell_type": "code",
   "execution_count": null,
   "metadata": {},
   "outputs": [],
   "source": []
  }
 ],
 "metadata": {
  "kernelspec": {
   "display_name": "Python 3",
   "language": "python",
   "name": "python3"
  },
  "language_info": {
   "codemirror_mode": {
    "name": "ipython",
    "version": 3
   },
   "file_extension": ".py",
   "mimetype": "text/x-python",
   "name": "python",
   "nbconvert_exporter": "python",
   "pygments_lexer": "ipython3",
   "version": "3.7.1"
  }
 },
 "nbformat": 4,
 "nbformat_minor": 2
}
