{
 "cells": [
  {
   "cell_type": "markdown",
   "metadata": {},
   "source": [
    "## **MapNode**\n",
    "\n",
    "If you want to iterate over a list of inputs, but need to feed all iterated outputs afterward as one input (an array) to the next node, you need to use a 'MapNode'. It is quite similar to a normal Node, but it can take a list of inputs and operate over each input separtely, ultimately returning a list of outputs.\n",
    "\n",
    "This is useful when the node **B** that we want to use accepts only one file. But, if the next node accepts multiple files, you can use a `MapNode` for B."
   ]
  },
  {
   "cell_type": "markdown",
   "metadata": {},
   "source": [
    "```python\n",
    "\n",
    "from nipype import Node, MapNode, Workflow\n",
    "a = Node(interface=A(), name=\"a\")\n",
    "b = MapNode(interface=B(), name=\"b\", iterfield=['in_file']) #you create an iterfield\n",
    "c = Node(interface=C(), name=\"c\")\n",
    "\n",
    "my_workflow = Workflow(name=\"my_workflow\")\n",
    "my_workflow.connect([(a,b,[('out_files', 'in_file')]),\n",
    "                    (b,c,[('out_file', 'in_files')])\n",
    "                    ])\n",
    "```"
   ]
  },
  {
   "cell_type": "code",
   "execution_count": 1,
   "metadata": {},
   "outputs": [],
   "source": [
    "# Demonstration with a simple function interface\n",
    "\n",
    "from nipype import Function\n",
    "\n",
    "def square_func(x):\n",
    "    return x ** 2\n",
    "\n",
    "square = Function([\"x\"], [\"f_x\"], square_func) # [\"x\"], x is an input, [\"f_x\"] is an output"
   ]
  },
  {
   "cell_type": "code",
   "execution_count": 2,
   "metadata": {},
   "outputs": [
    {
     "data": {
      "text/plain": [
       "4"
      ]
     },
     "execution_count": 2,
     "metadata": {},
     "output_type": "execute_result"
    }
   ],
   "source": [
    "square.run(x=2).outputs.f_x"
   ]
  },
  {
   "cell_type": "markdown",
   "metadata": {},
   "source": [
    "What if we wanted to square a list of numbers? We could set an iterable and just split up the workflow in multiple subworkflows. But say we were making a simple workflow that squared a list of numbers and then summed them. The sum node would expect a list, but using an iterable would make a bunch of sum nodes, and each would get one number from the list. The solution here is to use a `MapNode`."
   ]
  },
  {
   "cell_type": "markdown",
   "metadata": {},
   "source": [
    "### **`iterfield`**\n",
    "\n",
    "The `MapNode` has a filed called `iterfield`, which tells it what inputs should be expecting a list."
   ]
  },
  {
   "cell_type": "code",
   "execution_count": 3,
   "metadata": {},
   "outputs": [
    {
     "name": "stdout",
     "output_type": "stream",
     "text": [
      "190207-03:03:17,694 nipype.workflow INFO:\n",
      "\t [Node] Setting-up \"square\" in \"/tmp/tmp5vypzbo_/square\".\n",
      "190207-03:03:17,703 nipype.workflow INFO:\n",
      "\t [Node] Setting-up \"_square0\" in \"/tmp/tmp5vypzbo_/square/mapflow/_square0\".\n",
      "190207-03:03:17,706 nipype.workflow INFO:\n",
      "\t [Node] Running \"_square0\" (\"nipype.interfaces.utility.wrappers.Function\")\n",
      "190207-03:03:17,713 nipype.workflow INFO:\n",
      "\t [Node] Finished \"_square0\".\n",
      "190207-03:03:17,716 nipype.workflow INFO:\n",
      "\t [Node] Setting-up \"_square1\" in \"/tmp/tmp5vypzbo_/square/mapflow/_square1\".\n",
      "190207-03:03:17,721 nipype.workflow INFO:\n",
      "\t [Node] Running \"_square1\" (\"nipype.interfaces.utility.wrappers.Function\")\n",
      "190207-03:03:17,728 nipype.workflow INFO:\n",
      "\t [Node] Finished \"_square1\".\n",
      "190207-03:03:17,732 nipype.workflow INFO:\n",
      "\t [Node] Setting-up \"_square2\" in \"/tmp/tmp5vypzbo_/square/mapflow/_square2\".\n",
      "190207-03:03:17,736 nipype.workflow INFO:\n",
      "\t [Node] Running \"_square2\" (\"nipype.interfaces.utility.wrappers.Function\")\n",
      "190207-03:03:17,742 nipype.workflow INFO:\n",
      "\t [Node] Finished \"_square2\".\n",
      "190207-03:03:17,744 nipype.workflow INFO:\n",
      "\t [Node] Setting-up \"_square3\" in \"/tmp/tmp5vypzbo_/square/mapflow/_square3\".\n",
      "190207-03:03:17,749 nipype.workflow INFO:\n",
      "\t [Node] Running \"_square3\" (\"nipype.interfaces.utility.wrappers.Function\")\n",
      "190207-03:03:17,755 nipype.workflow INFO:\n",
      "\t [Node] Finished \"_square3\".\n",
      "190207-03:03:17,759 nipype.workflow INFO:\n",
      "\t [Node] Finished \"square\".\n"
     ]
    }
   ],
   "source": [
    "from nipype import MapNode\n",
    "\n",
    "square_node = MapNode(square, name=\"square\", iterfield=[\"x\"])\n",
    "\n",
    "square_node.inputs.x = [0, 1, 2, 3]\n",
    "res = square_node.run()"
   ]
  },
  {
   "cell_type": "code",
   "execution_count": 4,
   "metadata": {},
   "outputs": [
    {
     "data": {
      "text/plain": [
       "[0, 1, 4, 9]"
      ]
     },
     "execution_count": 4,
     "metadata": {},
     "output_type": "execute_result"
    }
   ],
   "source": [
    "res.outputs.f_x\n",
    "\n",
    "# iterables 는 iterable 값 하나씩 output을 주고 \n",
    "# MapNode는 다양한 outputs들을 하나의 리스트로 저장하는듯."
   ]
  },
  {
   "cell_type": "markdown",
   "metadata": {},
   "source": [
    "Because `iterfield` can take a list of names, you can operate over multiple sets of data, as long as they are the same length. The values in each list will be paired; it does not compute a combinatoric product of the lists."
   ]
  },
  {
   "cell_type": "code",
   "execution_count": 5,
   "metadata": {},
   "outputs": [
    {
     "name": "stdout",
     "output_type": "stream",
     "text": [
      "190207-04:10:22,256 nipype.workflow INFO:\n",
      "\t [Node] Setting-up \"power\" in \"/tmp/tmp3opkai9p/power\".\n",
      "190207-04:10:22,261 nipype.workflow INFO:\n",
      "\t [Node] Setting-up \"_power0\" in \"/tmp/tmp3opkai9p/power/mapflow/_power0\".\n",
      "190207-04:10:22,265 nipype.workflow INFO:\n",
      "\t [Node] Running \"_power0\" (\"nipype.interfaces.utility.wrappers.Function\")\n",
      "190207-04:10:22,271 nipype.workflow INFO:\n",
      "\t [Node] Finished \"_power0\".\n",
      "190207-04:10:22,273 nipype.workflow INFO:\n",
      "\t [Node] Setting-up \"_power1\" in \"/tmp/tmp3opkai9p/power/mapflow/_power1\".\n",
      "190207-04:10:22,276 nipype.workflow INFO:\n",
      "\t [Node] Running \"_power1\" (\"nipype.interfaces.utility.wrappers.Function\")\n",
      "190207-04:10:22,280 nipype.workflow INFO:\n",
      "\t [Node] Finished \"_power1\".\n",
      "190207-04:10:22,282 nipype.workflow INFO:\n",
      "\t [Node] Setting-up \"_power2\" in \"/tmp/tmp3opkai9p/power/mapflow/_power2\".\n",
      "190207-04:10:22,286 nipype.workflow INFO:\n",
      "\t [Node] Running \"_power2\" (\"nipype.interfaces.utility.wrappers.Function\")\n",
      "190207-04:10:22,298 nipype.workflow INFO:\n",
      "\t [Node] Finished \"_power2\".\n",
      "190207-04:10:22,302 nipype.workflow INFO:\n",
      "\t [Node] Setting-up \"_power3\" in \"/tmp/tmp3opkai9p/power/mapflow/_power3\".\n",
      "190207-04:10:22,308 nipype.workflow INFO:\n",
      "\t [Node] Running \"_power3\" (\"nipype.interfaces.utility.wrappers.Function\")\n",
      "190207-04:10:22,318 nipype.workflow INFO:\n",
      "\t [Node] Finished \"_power3\".\n",
      "190207-04:10:22,324 nipype.workflow INFO:\n",
      "\t [Node] Finished \"power\".\n"
     ]
    }
   ],
   "source": [
    "def power_func(x, y):\n",
    "    return x ** y \n",
    "\n",
    "power = Function([\"x\", \"y\"], [\"f_xy\"], power_func)\n",
    "power_node = MapNode(power, name=\"power\", iterfield=[\"x\", \"y\"])\n",
    "power_node.inputs.x = [0, 1, 2, 3]\n",
    "power_node.inputs.y = [0, 1, 2, 3]\n",
    "res = power_node.run()"
   ]
  },
  {
   "cell_type": "code",
   "execution_count": 6,
   "metadata": {},
   "outputs": [
    {
     "name": "stdout",
     "output_type": "stream",
     "text": [
      "[1, 1, 4, 27]\n"
     ]
    }
   ],
   "source": [
    "print(res.outputs.f_xy)"
   ]
  },
  {
   "cell_type": "markdown",
   "metadata": {},
   "source": [
    "Not every input needs to be an iterfield."
   ]
  },
  {
   "cell_type": "code",
   "execution_count": 7,
   "metadata": {},
   "outputs": [
    {
     "name": "stdout",
     "output_type": "stream",
     "text": [
      "190207-04:11:57,212 nipype.workflow INFO:\n",
      "\t [Node] Setting-up \"power\" in \"/tmp/tmpcxsgx6_0/power\".\n",
      "190207-04:11:57,217 nipype.workflow INFO:\n",
      "\t [Node] Setting-up \"_power0\" in \"/tmp/tmpcxsgx6_0/power/mapflow/_power0\".\n",
      "190207-04:11:57,221 nipype.workflow INFO:\n",
      "\t [Node] Running \"_power0\" (\"nipype.interfaces.utility.wrappers.Function\")\n",
      "190207-04:11:57,227 nipype.workflow INFO:\n",
      "\t [Node] Finished \"_power0\".\n",
      "190207-04:11:57,228 nipype.workflow INFO:\n",
      "\t [Node] Setting-up \"_power1\" in \"/tmp/tmpcxsgx6_0/power/mapflow/_power1\".\n",
      "190207-04:11:57,231 nipype.workflow INFO:\n",
      "\t [Node] Running \"_power1\" (\"nipype.interfaces.utility.wrappers.Function\")\n",
      "190207-04:11:57,236 nipype.workflow INFO:\n",
      "\t [Node] Finished \"_power1\".\n",
      "190207-04:11:57,238 nipype.workflow INFO:\n",
      "\t [Node] Setting-up \"_power2\" in \"/tmp/tmpcxsgx6_0/power/mapflow/_power2\".\n",
      "190207-04:11:57,242 nipype.workflow INFO:\n",
      "\t [Node] Running \"_power2\" (\"nipype.interfaces.utility.wrappers.Function\")\n",
      "190207-04:11:57,248 nipype.workflow INFO:\n",
      "\t [Node] Finished \"_power2\".\n",
      "190207-04:11:57,251 nipype.workflow INFO:\n",
      "\t [Node] Setting-up \"_power3\" in \"/tmp/tmpcxsgx6_0/power/mapflow/_power3\".\n",
      "190207-04:11:57,255 nipype.workflow INFO:\n",
      "\t [Node] Running \"_power3\" (\"nipype.interfaces.utility.wrappers.Function\")\n",
      "190207-04:11:57,261 nipype.workflow INFO:\n",
      "\t [Node] Finished \"_power3\".\n",
      "190207-04:11:57,265 nipype.workflow INFO:\n",
      "\t [Node] Finished \"power\".\n"
     ]
    }
   ],
   "source": [
    "power_node = MapNode(power, name=\"power\", iterfield=[\"x\"])\n",
    "power_node.inputs.x = [0, 1, 2, 3]\n",
    "power_node.inputs.y = 3\n",
    "res = power_node.run()"
   ]
  },
  {
   "cell_type": "code",
   "execution_count": 8,
   "metadata": {},
   "outputs": [
    {
     "name": "stdout",
     "output_type": "stream",
     "text": [
      "[0, 1, 8, 27]\n"
     ]
    }
   ],
   "source": [
    "print(res.outputs.f_xy)"
   ]
  },
  {
   "cell_type": "markdown",
   "metadata": {},
   "source": [
    "As in the case of `iterables`, each underlying `MapNode` execution can happen in **parallel**.\n",
    "\n",
    "MapNode allows you to iterate over items of nested lists with the \"nested=True\" parameter. Outputs will preserve the same nested structure as the inputs.\n",
    "\n",
    "Let's consider we have multiple functional images(A) and each of them should be motioned corrected. But afterward, we want to put them all together into a GLM, i.e. the input for the GLM should be an array of [B1, B2, B3, ...]. Iterables *can't do that*. They would split up the pipeline. Therefore, we need **MapNodes**.\n",
    "\n",
    "Let's motion correct two functional images. \n",
    "* Gunzip, to unzip the files (plural)\n",
    "* Realign, to do the motion correction"
   ]
  },
  {
   "cell_type": "code",
   "execution_count": 10,
   "metadata": {},
   "outputs": [
    {
     "name": "stdout",
     "output_type": "stream",
     "text": [
      "190207-04:26:03,543 nipype.workflow INFO:\n",
      "\t Workflow realign_with_spm settings: ['check', 'execution', 'logging', 'monitoring']\n",
      "190207-04:26:03,562 nipype.workflow INFO:\n",
      "\t Running in parallel.\n",
      "190207-04:26:03,566 nipype.workflow INFO:\n",
      "\t [MultiProc] Running 0 tasks, and 1 jobs ready. Free memory (GB): 5.24/5.24, Free processors: 4/4.\n",
      "190207-04:26:05,571 nipype.workflow INFO:\n",
      "\t [MultiProc] Running 0 tasks, and 2 jobs ready. Free memory (GB): 5.24/5.24, Free processors: 4/4.\n",
      "190207-04:26:05,633 nipype.workflow INFO:\n",
      "\t [Node] Setting-up \"_gunzip0\" in \"/output/realign_with_spm/gunzip/mapflow/_gunzip0\".190207-04:26:05,638 nipype.workflow INFO:\n",
      "\t [Node] Setting-up \"_gunzip1\" in \"/output/realign_with_spm/gunzip/mapflow/_gunzip1\".\n",
      "\n",
      "190207-04:26:05,670 nipype.workflow INFO:\n",
      "\t [Node] Running \"_gunzip0\" (\"nipype.algorithms.misc.Gunzip\")190207-04:26:05,673 nipype.workflow INFO:\n",
      "\t [Node] Running \"_gunzip1\" (\"nipype.algorithms.misc.Gunzip\")\n",
      "\n",
      "190207-04:26:07,574 nipype.workflow INFO:\n",
      "\t [MultiProc] Running 2 tasks, and 0 jobs ready. Free memory (GB): 4.84/5.24, Free processors: 2/4.\n",
      "                     Currently running:\n",
      "                       * _gunzip1\n",
      "                       * _gunzip0\n",
      "190207-04:26:07,947 nipype.workflow INFO:\n",
      "\t [Node] Finished \"_gunzip0\".\n",
      "190207-04:26:08,138 nipype.workflow INFO:\n",
      "\t [Node] Finished \"_gunzip1\".\n",
      "190207-04:26:09,575 nipype.workflow INFO:\n",
      "\t [Job 2] Completed (_gunzip0).\n",
      "190207-04:26:09,576 nipype.workflow INFO:\n",
      "\t [Job 3] Completed (_gunzip1).\n",
      "190207-04:26:09,578 nipype.workflow INFO:\n",
      "\t [MultiProc] Running 0 tasks, and 1 jobs ready. Free memory (GB): 5.24/5.24, Free processors: 4/4.\n",
      "190207-04:26:09,629 nipype.workflow INFO:\n",
      "\t [Node] Setting-up \"realign_with_spm.gunzip\" in \"/output/realign_with_spm/gunzip\".\n",
      "190207-04:26:09,661 nipype.workflow INFO:\n",
      "\t [Node] Setting-up \"_gunzip0\" in \"/output/realign_with_spm/gunzip/mapflow/_gunzip0\".\n",
      "190207-04:26:09,683 nipype.workflow INFO:\n",
      "\t [Node] Cached \"_gunzip0\" - collecting precomputed outputs\n",
      "190207-04:26:09,691 nipype.workflow INFO:\n",
      "\t [Node] \"_gunzip0\" found cached.\n",
      "190207-04:26:09,704 nipype.workflow INFO:\n",
      "\t [Node] Setting-up \"_gunzip1\" in \"/output/realign_with_spm/gunzip/mapflow/_gunzip1\".\n",
      "190207-04:26:09,726 nipype.workflow INFO:\n",
      "\t [Node] Cached \"_gunzip1\" - collecting precomputed outputs\n",
      "190207-04:26:09,734 nipype.workflow INFO:\n",
      "\t [Node] \"_gunzip1\" found cached.\n",
      "190207-04:26:09,761 nipype.workflow INFO:\n",
      "\t [Node] Finished \"realign_with_spm.gunzip\".\n",
      "190207-04:26:11,579 nipype.workflow INFO:\n",
      "\t [Job 0] Completed (realign_with_spm.gunzip).\n",
      "190207-04:26:11,582 nipype.workflow INFO:\n",
      "\t [MultiProc] Running 0 tasks, and 1 jobs ready. Free memory (GB): 5.24/5.24, Free processors: 4/4.\n",
      "190207-04:26:11,634 nipype.workflow INFO:\n",
      "\t [Node] Setting-up \"realign_with_spm.motion_correction\" in \"/output/realign_with_spm/motion_correction\".\n",
      "190207-04:26:13,581 nipype.workflow INFO:\n",
      "\t [MultiProc] Running 1 tasks, and 0 jobs ready. Free memory (GB): 5.04/5.24, Free processors: 3/4.\n",
      "                     Currently running:\n",
      "                       * realign_with_spm.motion_correction\n",
      "190207-04:26:14,237 nipype.workflow INFO:\n",
      "\t [Node] Running \"motion_correction\" (\"nipype.interfaces.spm.preprocess.Realign\")\n",
      "190207-04:27:48,935 nipype.workflow INFO:\n",
      "\t [Node] Finished \"realign_with_spm.motion_correction\".\n",
      "190207-04:27:49,628 nipype.workflow INFO:\n",
      "\t [Job 1] Completed (realign_with_spm.motion_correction).\n",
      "190207-04:27:49,630 nipype.workflow INFO:\n",
      "\t [MultiProc] Running 0 tasks, and 0 jobs ready. Free memory (GB): 5.24/5.24, Free processors: 4/4.\n"
     ]
    },
    {
     "data": {
      "text/plain": [
       "<networkx.classes.digraph.DiGraph at 0x7f97251038d0>"
      ]
     },
     "execution_count": 10,
     "metadata": {},
     "output_type": "execute_result"
    }
   ],
   "source": [
    "from nipype.algorithms.misc import Gunzip\n",
    "from nipype.interfaces.spm import Realign\n",
    "from nipype import Node, MapNode, Workflow\n",
    "\n",
    "# First, specify a list of files (just add the same images twice)\n",
    "files = ['/data/ds001534/sub-01/func/sub-01_task-calorieimage_run-03_bold.nii.gz',\n",
    "         '/data/ds001534/sub-01/func/sub-01_task-calorieimage_run-03_bold.nii.gz']\n",
    "\n",
    "# Second, create nodes\n",
    "realign = Node(Realign(register_to_mean=True), ## What does this 'register_to_mean' do?\n",
    "               name='motion_correction')\n",
    "\n",
    "# You will get an error with the following command line:\n",
    "# gunzip = Node(Gunzip(), name='gunzip')\n",
    "\n",
    "# With a MapNode, it works. Don't forget to include an iterfield!\n",
    "gunzip = MapNode(Gunzip(), name='gunzip',\n",
    "                 iterfield=['in_file'])\n",
    "gunzip.inputs.in_file = files\n",
    "\n",
    "# Third, create a workflow: connect the nodes and run.\n",
    "mcflow = Workflow(name='realign_with_spm')\n",
    "mcflow.connect(gunzip, 'out_file', realign, 'in_files')\n",
    "mcflow.base_dir = '/output'\n",
    "mcflow.run('MultiProc', plugin_args={'n_procs': 4}) ## Run in parallel?\n"
   ]
  },
  {
   "cell_type": "code",
   "execution_count": 23,
   "metadata": {},
   "outputs": [
    {
     "data": {
      "text/plain": [
       "<matplotlib.image.AxesImage at 0x7f97116416d8>"
      ]
     },
     "execution_count": 23,
     "metadata": {},
     "output_type": "execute_result"
    },
    {
     "data": {
      "image/png": "[encoded data removed]",
      "text/plain": [
       "<Figure size 432x288 with 1 Axes>"
      ]
     },
     "metadata": {
      "needs_background": "light"
     },
     "output_type": "display_data"
    }
   ],
   "source": [
    "import nibabel as nib\n",
    "import matplotlib.pyplot as plt\n",
    "\n",
    "img = nib.load('/output/realign_with_spm/motion_correction/sub-01_task-calorieimage_run-03_bold.nii')\n",
    "img_data = img.get_data()\n",
    "\n",
    "img1 = img_data[..., 70]\n",
    "\n",
    "plt.imshow(img1[..., 4], cmap='gray')"
   ]
  },
  {
   "cell_type": "markdown",
   "metadata": {},
   "source": [
    "### **Exercise 1**\n",
    "\n",
    "Create a workflow to calculate a sum of factorials of numbers from a range between nmin and nmax.\n",
    "(If nmin is 0 and nmax is 3, than 1 + 1 + 2 + 6 = 10)\n",
    "\n",
    "Use `Node` for a function that creates a list of integers and a function that sums everything at the end. Use `MapNode` to calculate factorials."
   ]
  },
  {
   "cell_type": "code",
   "execution_count": 36,
   "metadata": {},
   "outputs": [
    {
     "name": "stdout",
     "output_type": "stream",
     "text": [
      "190207-05:19:54,648 nipype.workflow INFO:\n",
      "\t Workflow ex1 settings: ['check', 'execution', 'logging', 'monitoring']\n",
      "190207-05:19:54,675 nipype.workflow INFO:\n",
      "\t Running serially.\n",
      "190207-05:19:54,676 nipype.workflow INFO:\n",
      "\t [Node] Setting-up \"ex1.range_list\" in \"/home/neuro/nipype_tutorial/Practices/Basics/ex1/range_list\".\n",
      "190207-05:19:54,682 nipype.workflow INFO:\n",
      "\t [Node] Outdated cache found for \"ex1.range_list\".\n",
      "190207-05:19:54,701 nipype.workflow INFO:\n",
      "\t [Node] Running \"range_list\" (\"nipype.interfaces.utility.wrappers.Function\")\n",
      "190207-05:19:54,721 nipype.workflow INFO:\n",
      "\t [Node] Finished \"ex1.range_list\".\n",
      "190207-05:19:54,722 nipype.workflow INFO:\n",
      "\t [Node] Setting-up \"ex1.factorial_list\" in \"/home/neuro/nipype_tutorial/Practices/Basics/ex1/factorial_list\".\n",
      "190207-05:19:54,733 nipype.workflow INFO:\n",
      "\t [Node] Outdated cache found for \"ex1.factorial_list\".\n",
      "190207-05:19:54,751 nipype.workflow INFO:\n",
      "\t [Node] Setting-up \"_factorial_list0\" in \"/home/neuro/nipype_tutorial/Practices/Basics/ex1/factorial_list/mapflow/_factorial_list0\".\n",
      "190207-05:19:54,757 nipype.workflow INFO:\n",
      "\t [Node] Outdated cache found for \"_factorial_list0\".\n",
      "190207-05:19:54,778 nipype.workflow INFO:\n",
      "\t [Node] Running \"_factorial_list0\" (\"nipype.interfaces.utility.wrappers.Function\")\n",
      "190207-05:19:54,803 nipype.workflow INFO:\n",
      "\t [Node] Finished \"_factorial_list0\".\n",
      "190207-05:19:54,810 nipype.workflow INFO:\n",
      "\t [Node] Setting-up \"_factorial_list1\" in \"/home/neuro/nipype_tutorial/Practices/Basics/ex1/factorial_list/mapflow/_factorial_list1\".\n",
      "190207-05:19:54,818 nipype.workflow INFO:\n",
      "\t [Node] Outdated cache found for \"_factorial_list1\".\n",
      "190207-05:19:54,840 nipype.workflow INFO:\n",
      "\t [Node] Running \"_factorial_list1\" (\"nipype.interfaces.utility.wrappers.Function\")\n",
      "190207-05:19:54,866 nipype.workflow INFO:\n",
      "\t [Node] Finished \"_factorial_list1\".\n",
      "190207-05:19:54,872 nipype.workflow INFO:\n",
      "\t [Node] Setting-up \"_factorial_list2\" in \"/home/neuro/nipype_tutorial/Practices/Basics/ex1/factorial_list/mapflow/_factorial_list2\".\n",
      "190207-05:19:54,879 nipype.workflow INFO:\n",
      "\t [Node] Outdated cache found for \"_factorial_list2\".\n",
      "190207-05:19:54,901 nipype.workflow INFO:\n",
      "\t [Node] Running \"_factorial_list2\" (\"nipype.interfaces.utility.wrappers.Function\")\n",
      "190207-05:19:54,923 nipype.workflow INFO:\n",
      "\t [Node] Finished \"_factorial_list2\".\n",
      "190207-05:19:54,929 nipype.workflow INFO:\n",
      "\t [Node] Setting-up \"_factorial_list3\" in \"/home/neuro/nipype_tutorial/Practices/Basics/ex1/factorial_list/mapflow/_factorial_list3\".\n",
      "190207-05:19:54,935 nipype.workflow INFO:\n",
      "\t [Node] Outdated cache found for \"_factorial_list3\".\n",
      "190207-05:19:54,959 nipype.workflow INFO:\n",
      "\t [Node] Running \"_factorial_list3\" (\"nipype.interfaces.utility.wrappers.Function\")\n",
      "190207-05:19:54,982 nipype.workflow INFO:\n",
      "\t [Node] Finished \"_factorial_list3\".\n",
      "190207-05:19:55,5 nipype.workflow INFO:\n",
      "\t [Node] Finished \"ex1.factorial_list\".\n",
      "190207-05:19:55,6 nipype.workflow INFO:\n",
      "\t [Node] Setting-up \"ex1.summing\" in \"/home/neuro/nipype_tutorial/Practices/Basics/ex1/summing\".\n",
      "190207-05:19:55,16 nipype.workflow INFO:\n",
      "\t [Node] Outdated cache found for \"ex1.summing\".\n",
      "190207-05:19:55,35 nipype.workflow INFO:\n",
      "\t [Node] Running \"summing\" (\"nipype.interfaces.utility.wrappers.Function\")\n",
      "190207-05:19:55,59 nipype.workflow INFO:\n",
      "\t [Node] Finished \"ex1.summing\".\n"
     ]
    }
   ],
   "source": [
    "from nipype import Workflow, Node, MapNode, Function\n",
    "import os\n",
    "\n",
    "def range_fun(n_min, n_max):\n",
    "    return list(range(n_min, n_max+1)) #+1 꼭!\n",
    "\n",
    "def factorials(x):\n",
    "    import math\n",
    "    return math.factorial(x)\n",
    "\n",
    "\"\"\"def sum(y):\n",
    "    y = list()\n",
    "    count = 0\n",
    "    for i in y:\n",
    "        count += i \n",
    "    return count\"\"\"\n",
    "\n",
    "def summing(terms):\n",
    "    return sum(terms)\n",
    "\n",
    "# Define our workflow\n",
    "wf_ex1 = Workflow('ex1')\n",
    "wf_ex1.base_dir = os.getcwd()\n",
    "\n",
    "# Error: range_node = Function([\"n_min\", \"n_max\"], [\"range_list\"], range_fun), name='range_list')\n",
    "## Function interface랑 function node의 차이?\n",
    "\n",
    "range_node = Node(Function(input_names=['n_min', 'n_max'], \n",
    "                           output_names=['range_list'], \n",
    "                           function=range_fun), \n",
    "                  name='range_list')\n",
    "\n",
    "fac_interface = Function([\"x\"], [\"fact_out\"], factorials)\n",
    "fac_node = MapNode(fac_interface, name=\"factorial_list\", iterfield=['x'])\n",
    "sum_node = Node(Function([\"terms\"], [\"sum_out\"], summing), name=\"summing\")\n",
    "\n",
    "# INPUT n_min and n_max into the range_node!\n",
    "range_node.inputs.n_min = 0\n",
    "range_node.inputs.n_max = 3\n",
    "\n",
    "# Connect the node\n",
    "wf_ex1.add_nodes([range_node]) \n",
    "wf_ex1.connect(range_node, 'range_list', fac_node, 'x')                                                                                                                                                 \n",
    "wf_ex1.connect(fac_node, 'fact_out', sum_node, 'terms')\n",
    "\n",
    "eg = wf_ex1.run()"
   ]
  },
  {
   "cell_type": "code",
   "execution_count": 37,
   "metadata": {},
   "outputs": [
    {
     "data": {
      "text/plain": [
       "NodeView((ex1.range_list, ex1.factorial_list, ex1.summing))"
      ]
     },
     "execution_count": 37,
     "metadata": {},
     "output_type": "execute_result"
    }
   ],
   "source": [
    "eg.nodes()"
   ]
  },
  {
   "cell_type": "code",
   "execution_count": 38,
   "metadata": {},
   "outputs": [
    {
     "data": {
      "text/plain": [
       "\n",
       "sum_out = 10"
      ]
     },
     "execution_count": 38,
     "metadata": {},
     "output_type": "execute_result"
    }
   ],
   "source": [
    "list(eg.nodes())[2].result.outputs #the second node      "
   ]
  },
  {
   "cell_type": "code",
   "execution_count": 39,
   "metadata": {},
   "outputs": [
    {
     "name": "stdout",
     "output_type": "stream",
     "text": [
      "\n",
      "range_list = [0, 1, 2, 3]\n",
      "\n",
      "Bunch(fact_out=[1, 1, 2, 6])\n"
     ]
    }
   ],
   "source": [
    "print(list(eg.nodes())[0].result.outputs)\n",
    "print(list(eg.nodes())[1].result.outputs)"
   ]
  }
 ],
 "metadata": {
  "kernelspec": {
   "display_name": "Python [default]",
   "language": "python",
   "name": "python3"
  },
  "language_info": {
   "codemirror_mode": {
    "name": "ipython",
    "version": 3
   },
   "file_extension": ".py",
   "mimetype": "text/x-python",
   "name": "python",
   "nbconvert_exporter": "python",
   "pygments_lexer": "ipython3",
   "version": "3.6.6"
  }
 },
 "nbformat": 4,
 "nbformat_minor": 2
}
