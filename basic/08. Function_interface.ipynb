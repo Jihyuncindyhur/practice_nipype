{
 "cells": [
  {
   "cell_type": "markdown",
   "metadata": {},
   "source": [
    "## **Function Interface**\n",
    "\n",
    "`Function` module: allows you to put any code you want into an empty node, which you then can put in your workflow exactly where it needs to be!\n",
    "\n"
   ]
  },
  {
   "cell_type": "markdown",
   "metadata": {},
   "source": [
    "## **A Simple Function Interface**\n",
    "\n",
    "The most common way will involve functions you code yourself as part of your Nipype scripts."
   ]
  },
  {
   "cell_type": "code",
   "execution_count": 1,
   "metadata": {},
   "outputs": [],
   "source": [
    "def add_two(x_input):\n",
    "    return x_input + 2\n",
    "\n",
    "# This simple function takes a value, adds 2 to it,\n",
    "# and returns that new value."
   ]
  },
  {
   "cell_type": "markdown",
   "metadata": {},
   "source": [
    "Just as Nipype interfaces have inputs and outputs, Python functions have inputs, in the form of parameters or arguments, and outputs, in the form of their return values. When you define a Function interface object with an existing function, as in the case of add_two() above, you must pass the constructor info about the function's inputs, its outputs, and the function itself."
   ]
  },
  {
   "cell_type": "code",
   "execution_count": 7,
   "metadata": {},
   "outputs": [],
   "source": [
    "from nipype import Node, Function\n",
    "\n",
    "addtwo = Node(Function(input_names=[\"x_input\"],\n",
    "                       output_names=[\"val_output\"],\n",
    "                       function=add_two),\n",
    "              name='add_node')"
   ]
  },
  {
   "cell_type": "code",
   "execution_count": 9,
   "metadata": {},
   "outputs": [
    {
     "name": "stdout",
     "output_type": "stream",
     "text": [
      "190204-03:34:00,883 nipype.workflow INFO:\n",
      "\t [Node] Setting-up \"add_node\" in \"/tmp/tmpybf6ktb_/add_node\".\n",
      "190204-03:34:00,902 nipype.workflow INFO:\n",
      "\t [Node] Running \"add_node\" (\"nipype.interfaces.utility.wrappers.Function\")\n",
      "190204-03:34:00,926 nipype.workflow INFO:\n",
      "\t [Node] Finished \"add_node\".\n"
     ]
    },
    {
     "data": {
      "text/plain": [
       "<nipype.interfaces.base.support.InterfaceResult at 0x7f19d5f7b208>"
      ]
     },
     "execution_count": 9,
     "metadata": {},
     "output_type": "execute_result"
    }
   ],
   "source": [
    "addtwo.inputs.x_input= 4\n",
    "addtwo.run()"
   ]
  },
  {
   "cell_type": "code",
   "execution_count": 10,
   "metadata": {},
   "outputs": [
    {
     "name": "stdout",
     "output_type": "stream",
     "text": [
      "190204-03:34:12,961 nipype.workflow INFO:\n",
      "\t [Node] Setting-up \"add_node\" in \"/tmp/tmpybf6ktb_/add_node\".\n",
      "190204-03:34:12,975 nipype.workflow INFO:\n",
      "\t [Node] Cached \"add_node\" - collecting precomputed outputs\n",
      "190204-03:34:12,985 nipype.workflow INFO:\n",
      "\t [Node] \"add_node\" found cached.\n"
     ]
    },
    {
     "data": {
      "text/plain": [
       "\n",
       "val_output = 6"
      ]
     },
     "execution_count": 10,
     "metadata": {},
     "output_type": "execute_result"
    }
   ],
   "source": [
    "addtwo.run().outputs"
   ]
  },
  {
   "cell_type": "code",
   "execution_count": 11,
   "metadata": {},
   "outputs": [
    {
     "data": {
      "text/plain": [
       "\n",
       "val_output = 6"
      ]
     },
     "execution_count": 11,
     "metadata": {},
     "output_type": "execute_result"
    }
   ],
   "source": [
    "addtwo.result.outputs"
   ]
  },
  {
   "cell_type": "markdown",
   "metadata": {},
   "source": [
    "You need to be careful that the name of the input parameter to the node is the same name as the input parmeter to the function, i.e. `x-input`. But you don't have to specify input_names or output names. "
   ]
  },
  {
   "cell_type": "code",
   "execution_count": 12,
   "metadata": {},
   "outputs": [
    {
     "name": "stdout",
     "output_type": "stream",
     "text": [
      "190204-03:35:42,877 nipype.workflow INFO:\n",
      "\t [Node] Setting-up \"add_node\" in \"/tmp/tmpfsf6li9s/add_node\".\n",
      "190204-03:35:42,888 nipype.workflow INFO:\n",
      "\t [Node] Running \"add_node\" (\"nipype.interfaces.utility.wrappers.Function\")\n",
      "190204-03:35:42,904 nipype.workflow INFO:\n",
      "\t [Node] Finished \"add_node\".\n"
     ]
    },
    {
     "data": {
      "text/plain": [
       "<nipype.interfaces.base.support.InterfaceResult at 0x7f19d5f7beb8>"
      ]
     },
     "execution_count": 12,
     "metadata": {},
     "output_type": "execute_result"
    }
   ],
   "source": [
    "addtwo = Node(Function(function=add_two), name=\"add_node\")\n",
    "addtwo.inputs.x_input = 8\n",
    "addtwo.run()"
   ]
  },
  {
   "cell_type": "code",
   "execution_count": 13,
   "metadata": {},
   "outputs": [
    {
     "data": {
      "text/plain": [
       "\n",
       "out = 10"
      ]
     },
     "execution_count": 13,
     "metadata": {},
     "output_type": "execute_result"
    }
   ],
   "source": [
    "addtwo.result.outputs"
   ]
  },
  {
   "cell_type": "markdown",
   "metadata": {},
   "source": [
    "## **Using External Packages**\n",
    "\n",
    "If you want to use more Python packages geared towards neuroimaging such as Nibabel, Nipy or PyMVPA, **you have to import those external functions or classes within the function itself.**"
   ]
  },
  {
   "cell_type": "code",
   "execution_count": 14,
   "metadata": {},
   "outputs": [],
   "source": [
    "def get_n_trs(in_file):\n",
    "    import nibabel\n",
    "    f = nibabel.load(in_file)\n",
    "    return f.shape[-1]\n",
    "\n",
    "# Explicitly importing Nibabel in the body of the function!"
   ]
  },
  {
   "cell_type": "markdown",
   "metadata": {},
   "source": [
    "## **`function_str` input**\n",
    "\n",
    "This input takes not a function object, but actually **a single string that can be parsed to define a function.** In the equivalent case to our example above, the string would be"
   ]
  },
  {
   "cell_type": "code",
   "execution_count": 15,
   "metadata": {},
   "outputs": [],
   "source": [
    "add_two_str = \"def add_two(val):\\n return val + 2\\n\""
   ]
  },
  {
   "cell_type": "markdown",
   "metadata": {},
   "source": [
    "OMG what is this lol ㅋㅋㅋ"
   ]
  },
  {
   "cell_type": "markdown",
   "metadata": {},
   "source": [
    "## **Important - Function nodes are closed environments**\n",
    "\n",
    "There's only one trap that you should be aware of when using the `Function` module.\n",
    "\n",
    "If you want to use another module inside a function, you have to import it again inside the function."
   ]
  },
  {
   "cell_type": "code",
   "execution_count": 16,
   "metadata": {},
   "outputs": [
    {
     "name": "stdout",
     "output_type": "stream",
     "text": [
      "190204-03:48:22,936 nipype.workflow INFO:\n",
      "\t [Node] Setting-up \"rndArray_node\" in \"/tmp/tmpenb6zx5t/rndArray_node\".\n",
      "190204-03:48:22,946 nipype.workflow INFO:\n",
      "\t [Node] Running \"rndArray_node\" (\"nipype.interfaces.utility.wrappers.Function\")\n",
      "190204-03:48:22,960 nipype.workflow INFO:\n",
      "\t [Node] Finished \"rndArray_node\".\n",
      "\n",
      "random_array = [[0.69606048 0.48000143 0.17902162]\n",
      " [0.10007322 0.16357615 0.83558744]\n",
      " [0.31067914 0.44169312 0.91215212]]\n",
      "\n"
     ]
    }
   ],
   "source": [
    "from nipype import Node, Function\n",
    "\n",
    "def get_random_array(array_shape):\n",
    "    \n",
    "    from numpy.random import random\n",
    "    \n",
    "    return random(array_shape)\n",
    "\n",
    "rndArray = Node(Function(input_names=[\"array_shape\"],\n",
    "                         output_names=[\"random_array\"],\n",
    "                        \n",
    "                         function=get_random_array),\n",
    "                name='rndArray_node')\n",
    "\n",
    "rndArray.inputs.array_shape = (3, 3)\n",
    "\n",
    "rndArray.run()\n",
    "\n",
    "print(rndArray.result.outputs)\n",
    "\n",
    "# Function is a closed environment.\n",
    "# If you want to use another module inside a function (i.e. numpy.random),\n",
    "# you have to import it inside the function(local), but globally"
   ]
  },
  {
   "cell_type": "markdown",
   "metadata": {},
   "source": [
    "Now, let's see what happends if we move the import of `random` outside the scope of `get_random_array`:"
   ]
  },
  {
   "cell_type": "code",
   "execution_count": 17,
   "metadata": {},
   "outputs": [
    {
     "name": "stdout",
     "output_type": "stream",
     "text": [
      "190204-03:51:13,348 nipype.workflow INFO:\n",
      "\t [Node] Setting-up \"rndArray_node\" in \"/tmp/tmpety5crao/rndArray_node\".\n",
      "190204-03:51:13,360 nipype.workflow INFO:\n",
      "\t [Node] Running \"rndArray_node\" (\"nipype.interfaces.utility.wrappers.Function\")\n",
      "190204-03:51:13,370 nipype.workflow WARNING:\n",
      "\t [Node] Error on \"rndArray_node\" (/tmp/tmpety5crao/rndArray_node)\n",
      "NameError: name 'random' is not defined\n"
     ]
    }
   ],
   "source": [
    "from nipype import Node, Function\n",
    "\n",
    "# Import random function\n",
    "from numpy.random import random\n",
    "\n",
    "\n",
    "# Create the Function object\n",
    "def get_random_array(array_shape):\n",
    "\n",
    "    return random(array_shape)\n",
    "\n",
    "# Create Function Node that executes get_random_array\n",
    "rndArray = Node(Function(input_names=[\"array_shape\"],\n",
    "                         output_names=[\"random_array\"],\n",
    "                         function=get_random_array),\n",
    "                name='rndArray_node')\n",
    "\n",
    "# Specify the array_shape of the random array\n",
    "rndArray.inputs.array_shape = (3, 3)\n",
    "\n",
    "# Run node\n",
    "try:\n",
    "    rndArray.run()\n",
    "except(NameError) as err:\n",
    "    print(\"NameError:\", err)\n",
    "else:\n",
    "    raise"
   ]
  },
  {
   "cell_type": "code",
   "execution_count": null,
   "metadata": {},
   "outputs": [],
   "source": []
  }
 ],
 "metadata": {
  "kernelspec": {
   "display_name": "Python 3",
   "language": "python",
   "name": "python3"
  },
  "language_info": {
   "codemirror_mode": {
    "name": "ipython",
    "version": 3
   },
   "file_extension": ".py",
   "mimetype": "text/x-python",
   "name": "python",
   "nbconvert_exporter": "python",
   "pygments_lexer": "ipython3",
   "version": "3.7.0"
  }
 },
 "nbformat": 4,
 "nbformat_minor": 2
}
